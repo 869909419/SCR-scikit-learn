{
 "cells": [
  {
   "cell_type": "markdown",
   "metadata": {},
   "source": [
    "### 预测A侧脱硝效率"
   ]
  },
  {
   "cell_type": "code",
   "execution_count": 1,
   "metadata": {},
   "outputs": [],
   "source": [
    "from sklearn.model_selection import GridSearchCV\n",
    "import numpy as np\n",
    "import seaborn as sns\n",
    "import pandas as pd\n",
    "from sklearn.preprocessing import StandardScaler\n",
    "from sklearn.svm import SVR\n",
    "import matplotlib.pyplot as plt\n",
    "from time import time\n",
    "import datetime\n",
    "from sklearn.model_selection import KFold\n",
    "import scipy.stats as sci\n",
    "from sklearn.model_selection import cross_val_score as CVS\n",
    "import pickle"
   ]
  },
  {
   "cell_type": "code",
   "execution_count": 2,
   "metadata": {},
   "outputs": [
    {
     "data": {
      "text/html": [
       "<div>\n",
       "<style scoped>\n",
       "    .dataframe tbody tr th:only-of-type {\n",
       "        vertical-align: middle;\n",
       "    }\n",
       "\n",
       "    .dataframe tbody tr th {\n",
       "        vertical-align: top;\n",
       "    }\n",
       "\n",
       "    .dataframe thead th {\n",
       "        text-align: right;\n",
       "    }\n",
       "</style>\n",
       "<table border=\"1\" class=\"dataframe\">\n",
       "  <thead>\n",
       "    <tr style=\"text-align: right;\">\n",
       "      <th></th>\n",
       "      <th>X1</th>\n",
       "      <th>X2</th>\n",
       "      <th>X3</th>\n",
       "      <th>X4</th>\n",
       "      <th>X5</th>\n",
       "      <th>Y</th>\n",
       "    </tr>\n",
       "  </thead>\n",
       "  <tbody>\n",
       "    <tr>\n",
       "      <th>0</th>\n",
       "      <td>26.02</td>\n",
       "      <td>654174.07</td>\n",
       "      <td>45.40</td>\n",
       "      <td>0.29</td>\n",
       "      <td>4.45</td>\n",
       "      <td>79.00</td>\n",
       "    </tr>\n",
       "    <tr>\n",
       "      <th>1</th>\n",
       "      <td>24.85</td>\n",
       "      <td>654182.89</td>\n",
       "      <td>42.05</td>\n",
       "      <td>0.26</td>\n",
       "      <td>4.50</td>\n",
       "      <td>80.94</td>\n",
       "    </tr>\n",
       "    <tr>\n",
       "      <th>2</th>\n",
       "      <td>24.05</td>\n",
       "      <td>654192.22</td>\n",
       "      <td>42.47</td>\n",
       "      <td>0.17</td>\n",
       "      <td>4.70</td>\n",
       "      <td>82.03</td>\n",
       "    </tr>\n",
       "    <tr>\n",
       "      <th>3</th>\n",
       "      <td>25.10</td>\n",
       "      <td>654201.46</td>\n",
       "      <td>43.29</td>\n",
       "      <td>0.11</td>\n",
       "      <td>4.65</td>\n",
       "      <td>81.58</td>\n",
       "    </tr>\n",
       "    <tr>\n",
       "      <th>4</th>\n",
       "      <td>21.32</td>\n",
       "      <td>654210.85</td>\n",
       "      <td>42.08</td>\n",
       "      <td>0.23</td>\n",
       "      <td>4.59</td>\n",
       "      <td>84.22</td>\n",
       "    </tr>\n",
       "  </tbody>\n",
       "</table>\n",
       "</div>"
      ],
      "text/plain": [
       "      X1         X2     X3    X4    X5      Y\n",
       "0  26.02  654174.07  45.40  0.29  4.45  79.00\n",
       "1  24.85  654182.89  42.05  0.26  4.50  80.94\n",
       "2  24.05  654192.22  42.47  0.17  4.70  82.03\n",
       "3  25.10  654201.46  43.29  0.11  4.65  81.58\n",
       "4  21.32  654210.85  42.08  0.23  4.59  84.22"
      ]
     },
     "execution_count": 2,
     "metadata": {},
     "output_type": "execute_result"
    }
   ],
   "source": [
    "data = pd.read_csv(r\"E:\\Users\\HUAWEI\\Desktop\\sklearn-learn data\\脱硝效率数据集\\A.csv\",encoding='gb2312')\n",
    "data.head()"
   ]
  },
  {
   "cell_type": "code",
   "execution_count": 3,
   "metadata": {},
   "outputs": [
    {
     "name": "stdout",
     "output_type": "stream",
     "text": [
      "<class 'pandas.core.frame.DataFrame'>\n",
      "RangeIndex: 2976 entries, 0 to 2975\n",
      "Data columns (total 6 columns):\n",
      " #   Column  Non-Null Count  Dtype  \n",
      "---  ------  --------------  -----  \n",
      " 0   X1      2974 non-null   float64\n",
      " 1   X2      2975 non-null   float64\n",
      " 2   X3      2975 non-null   float64\n",
      " 3   X4      2970 non-null   float64\n",
      " 4   X5      2972 non-null   float64\n",
      " 5   Y       2974 non-null   float64\n",
      "dtypes: float64(6)\n",
      "memory usage: 139.6 KB\n"
     ]
    }
   ],
   "source": [
    "data.info()"
   ]
  },
  {
   "cell_type": "code",
   "execution_count": 4,
   "metadata": {},
   "outputs": [],
   "source": [
    "data.columns = [\"x1\",\"x2\",\"x3\",\"x4\",\"x5\",\"y\"]"
   ]
  },
  {
   "cell_type": "code",
   "execution_count": 5,
   "metadata": {},
   "outputs": [
    {
     "data": {
      "text/html": [
       "<div>\n",
       "<style scoped>\n",
       "    .dataframe tbody tr th:only-of-type {\n",
       "        vertical-align: middle;\n",
       "    }\n",
       "\n",
       "    .dataframe tbody tr th {\n",
       "        vertical-align: top;\n",
       "    }\n",
       "\n",
       "    .dataframe thead th {\n",
       "        text-align: right;\n",
       "    }\n",
       "</style>\n",
       "<table border=\"1\" class=\"dataframe\">\n",
       "  <thead>\n",
       "    <tr style=\"text-align: right;\">\n",
       "      <th></th>\n",
       "      <th>x1</th>\n",
       "      <th>x2</th>\n",
       "      <th>x3</th>\n",
       "      <th>x4</th>\n",
       "      <th>x5</th>\n",
       "      <th>y</th>\n",
       "    </tr>\n",
       "  </thead>\n",
       "  <tbody>\n",
       "    <tr>\n",
       "      <th>0</th>\n",
       "      <td>26.02</td>\n",
       "      <td>654174.07</td>\n",
       "      <td>45.40</td>\n",
       "      <td>0.29</td>\n",
       "      <td>4.45</td>\n",
       "      <td>79.00</td>\n",
       "    </tr>\n",
       "    <tr>\n",
       "      <th>1</th>\n",
       "      <td>24.85</td>\n",
       "      <td>654182.89</td>\n",
       "      <td>42.05</td>\n",
       "      <td>0.26</td>\n",
       "      <td>4.50</td>\n",
       "      <td>80.94</td>\n",
       "    </tr>\n",
       "    <tr>\n",
       "      <th>2</th>\n",
       "      <td>24.05</td>\n",
       "      <td>654192.22</td>\n",
       "      <td>42.47</td>\n",
       "      <td>0.17</td>\n",
       "      <td>4.70</td>\n",
       "      <td>82.03</td>\n",
       "    </tr>\n",
       "    <tr>\n",
       "      <th>3</th>\n",
       "      <td>25.10</td>\n",
       "      <td>654201.46</td>\n",
       "      <td>43.29</td>\n",
       "      <td>0.11</td>\n",
       "      <td>4.65</td>\n",
       "      <td>81.58</td>\n",
       "    </tr>\n",
       "    <tr>\n",
       "      <th>4</th>\n",
       "      <td>21.32</td>\n",
       "      <td>654210.85</td>\n",
       "      <td>42.08</td>\n",
       "      <td>0.23</td>\n",
       "      <td>4.59</td>\n",
       "      <td>84.22</td>\n",
       "    </tr>\n",
       "  </tbody>\n",
       "</table>\n",
       "</div>"
      ],
      "text/plain": [
       "      x1         x2     x3    x4    x5      y\n",
       "0  26.02  654174.07  45.40  0.29  4.45  79.00\n",
       "1  24.85  654182.89  42.05  0.26  4.50  80.94\n",
       "2  24.05  654192.22  42.47  0.17  4.70  82.03\n",
       "3  25.10  654201.46  43.29  0.11  4.65  81.58\n",
       "4  21.32  654210.85  42.08  0.23  4.59  84.22"
      ]
     },
     "execution_count": 5,
     "metadata": {},
     "output_type": "execute_result"
    }
   ],
   "source": [
    "data.head()"
   ]
  },
  {
   "cell_type": "code",
   "execution_count": 6,
   "metadata": {},
   "outputs": [],
   "source": [
    "data.dropna(axis=0,inplace=True)  #axis=0对行进行修改，axis=0对列进行修改，inplace=True为对原来的数据进行修改"
   ]
  },
  {
   "cell_type": "code",
   "execution_count": 7,
   "metadata": {},
   "outputs": [
    {
     "name": "stdout",
     "output_type": "stream",
     "text": [
      "<class 'pandas.core.frame.DataFrame'>\n",
      "Int64Index: 2960 entries, 0 to 2975\n",
      "Data columns (total 6 columns):\n",
      " #   Column  Non-Null Count  Dtype  \n",
      "---  ------  --------------  -----  \n",
      " 0   x1      2960 non-null   float64\n",
      " 1   x2      2960 non-null   float64\n",
      " 2   x3      2960 non-null   float64\n",
      " 3   x4      2960 non-null   float64\n",
      " 4   x5      2960 non-null   float64\n",
      " 5   y       2960 non-null   float64\n",
      "dtypes: float64(6)\n",
      "memory usage: 161.9 KB\n"
     ]
    }
   ],
   "source": [
    "data.info()"
   ]
  },
  {
   "cell_type": "code",
   "execution_count": 8,
   "metadata": {},
   "outputs": [
    {
     "data": {
      "text/html": [
       "<div>\n",
       "<style scoped>\n",
       "    .dataframe tbody tr th:only-of-type {\n",
       "        vertical-align: middle;\n",
       "    }\n",
       "\n",
       "    .dataframe tbody tr th {\n",
       "        vertical-align: top;\n",
       "    }\n",
       "\n",
       "    .dataframe thead th {\n",
       "        text-align: right;\n",
       "    }\n",
       "</style>\n",
       "<table border=\"1\" class=\"dataframe\">\n",
       "  <thead>\n",
       "    <tr style=\"text-align: right;\">\n",
       "      <th></th>\n",
       "      <th>x1</th>\n",
       "      <th>x2</th>\n",
       "      <th>x3</th>\n",
       "      <th>x4</th>\n",
       "      <th>x5</th>\n",
       "      <th>y</th>\n",
       "    </tr>\n",
       "  </thead>\n",
       "  <tbody>\n",
       "    <tr>\n",
       "      <th>0</th>\n",
       "      <td>26.02</td>\n",
       "      <td>654174.07</td>\n",
       "      <td>45.40</td>\n",
       "      <td>0.29</td>\n",
       "      <td>4.45</td>\n",
       "      <td>79.00</td>\n",
       "    </tr>\n",
       "    <tr>\n",
       "      <th>1</th>\n",
       "      <td>24.85</td>\n",
       "      <td>654182.89</td>\n",
       "      <td>42.05</td>\n",
       "      <td>0.26</td>\n",
       "      <td>4.50</td>\n",
       "      <td>80.94</td>\n",
       "    </tr>\n",
       "    <tr>\n",
       "      <th>2</th>\n",
       "      <td>24.05</td>\n",
       "      <td>654192.22</td>\n",
       "      <td>42.47</td>\n",
       "      <td>0.17</td>\n",
       "      <td>4.70</td>\n",
       "      <td>82.03</td>\n",
       "    </tr>\n",
       "    <tr>\n",
       "      <th>3</th>\n",
       "      <td>25.10</td>\n",
       "      <td>654201.46</td>\n",
       "      <td>43.29</td>\n",
       "      <td>0.11</td>\n",
       "      <td>4.65</td>\n",
       "      <td>81.58</td>\n",
       "    </tr>\n",
       "    <tr>\n",
       "      <th>4</th>\n",
       "      <td>21.32</td>\n",
       "      <td>654210.85</td>\n",
       "      <td>42.08</td>\n",
       "      <td>0.23</td>\n",
       "      <td>4.59</td>\n",
       "      <td>84.22</td>\n",
       "    </tr>\n",
       "  </tbody>\n",
       "</table>\n",
       "</div>"
      ],
      "text/plain": [
       "      x1         x2     x3    x4    x5      y\n",
       "0  26.02  654174.07  45.40  0.29  4.45  79.00\n",
       "1  24.85  654182.89  42.05  0.26  4.50  80.94\n",
       "2  24.05  654192.22  42.47  0.17  4.70  82.03\n",
       "3  25.10  654201.46  43.29  0.11  4.65  81.58\n",
       "4  21.32  654210.85  42.08  0.23  4.59  84.22"
      ]
     },
     "execution_count": 8,
     "metadata": {},
     "output_type": "execute_result"
    }
   ],
   "source": [
    "data.head()"
   ]
  },
  {
   "cell_type": "code",
   "execution_count": 9,
   "metadata": {},
   "outputs": [],
   "source": [
    "X = data.iloc[:,0:-1]\n",
    "y = data.iloc[:,-1]"
   ]
  },
  {
   "cell_type": "code",
   "execution_count": 10,
   "metadata": {},
   "outputs": [],
   "source": [
    "from sklearn.model_selection import train_test_split"
   ]
  },
  {
   "cell_type": "code",
   "execution_count": 11,
   "metadata": {},
   "outputs": [],
   "source": [
    "Xtrain,Xtest,Ytrain,Ytest = train_test_split(X,y,test_size=0.3,random_state=666)"
   ]
  },
  {
   "cell_type": "code",
   "execution_count": 12,
   "metadata": {},
   "outputs": [],
   "source": [
    "from sklearn.preprocessing import StandardScaler\n",
    "standardScaler = StandardScaler()\n",
    "Xtrain2 = standardScaler.fit_transform(Xtrain)\n",
    "Xtest2 = standardScaler.fit_transform(Xtest)"
   ]
  },
  {
   "cell_type": "code",
   "execution_count": 13,
   "metadata": {},
   "outputs": [
    {
     "name": "stdout",
     "output_type": "stream",
     "text": [
      "linear's testing accuracy 0.729260\n",
      "00:00:201463\n",
      "poly's testing accuracy 0.334142\n",
      "00:00:506681\n",
      "rbf's testing accuracy 0.751426\n",
      "00:00:718083\n",
      "sigmoid's testing accuracy -100.797843\n",
      "00:00:992346\n"
     ]
    }
   ],
   "source": [
    "times = time()\n",
    "for kernel in [\"linear\",\"poly\",\"rbf\",\"sigmoid\"]:\n",
    "    clf = SVR(kernel=kernel).fit(Xtrain2,Ytrain)\n",
    "    result = clf.predict(Xtest2)\n",
    "    score = clf.score(Xtest2,Ytest)\n",
    "    print(\"%s's testing accuracy %f\"%(kernel,score))\n",
    "    print(datetime.datetime.utcfromtimestamp(time()-times).strftime(\"%M:%S:%f\"))"
   ]
  },
  {
   "cell_type": "markdown",
   "metadata": {},
   "source": [
    "### 选择rbf"
   ]
  },
  {
   "cell_type": "code",
   "execution_count": 14,
   "metadata": {},
   "outputs": [],
   "source": [
    "import matplotlib.pyplot as plt"
   ]
  },
  {
   "cell_type": "code",
   "execution_count": 15,
   "metadata": {},
   "outputs": [
    {
     "name": "stdout",
     "output_type": "stream",
     "text": [
      "under C 0.010000,testing accuracy is 0.422799\n",
      "under C 2.641053,testing accuracy is 0.769225\n",
      "under C 5.272105,testing accuracy is 0.779324\n",
      "under C 7.903158,testing accuracy is 0.784589\n",
      "under C 10.534211,testing accuracy is 0.787902\n",
      "under C 13.165263,testing accuracy is 0.787915\n",
      "under C 15.796316,testing accuracy is 0.787616\n",
      "under C 18.427368,testing accuracy is 0.786494\n",
      "under C 21.058421,testing accuracy is 0.786667\n",
      "under C 23.689474,testing accuracy is 0.787023\n",
      "under C 26.320526,testing accuracy is 0.787191\n",
      "under C 28.951579,testing accuracy is 0.787453\n",
      "under C 31.582632,testing accuracy is 0.787451\n",
      "under C 34.213684,testing accuracy is 0.787281\n",
      "under C 36.844737,testing accuracy is 0.787367\n",
      "under C 39.475789,testing accuracy is 0.787094\n",
      "under C 42.106842,testing accuracy is 0.787019\n",
      "under C 44.737895,testing accuracy is 0.787168\n",
      "under C 47.368947,testing accuracy is 0.787194\n",
      "under C 50.000000,testing accuracy is 0.787224\n",
      "0.7879150512914006 13.165263157894737\n"
     ]
    },
    {
     "data": {
      "image/png": "[encoded data removed]",
      "text/plain": [
       "<Figure size 432x288 with 1 Axes>"
      ]
     },
     "metadata": {},
     "output_type": "display_data"
    },
    {
     "name": "stdout",
     "output_type": "stream",
     "text": [
      "00:09:589319\n"
     ]
    }
   ],
   "source": [
    "times = time()\n",
    "C_range = np.linspace(0.01,50,20)\n",
    "scoreall = []\n",
    "for C in C_range:\n",
    "    clf = SVR(kernel=\"rbf\",C=C).fit(Xtrain2,Ytrain)\n",
    "    result = clf.predict(Xtest2)\n",
    "    score = clf.score(Xtest2,Ytest)\n",
    "    scoreall.append(score)\n",
    "    print(\"under C %f,testing accuracy is %f\"%(C,score))\n",
    "print(max(scoreall),C_range[scoreall.index(max(scoreall))])\n",
    "plt.figure()\n",
    "plt.plot(C_range,scoreall,c=\"orange\",label=\"accuracy\")\n",
    "plt.legend()\n",
    "plt.show()\n",
    "print(datetime.datetime.utcfromtimestamp(time()-times).strftime(\"%M:%S:%f\"))"
   ]
  },
  {
   "cell_type": "code",
   "execution_count": 16,
   "metadata": {},
   "outputs": [
    {
     "name": "stdout",
     "output_type": "stream",
     "text": [
      "{'gamma': 1} 0.7804125189011472\n",
      "00:23:550013\n"
     ]
    }
   ],
   "source": [
    "time0 = time()\n",
    "params = {'gamma':np.arange(1,10,1)}\n",
    "cv = KFold(n_splits=5, shuffle = True, random_state=666) \n",
    "clf = SVR(kernel=\"rbf\",C=13.165263157894737)\n",
    "GV = GridSearchCV(clf,params,cv=cv)\n",
    "GV.fit(Xtrain2,Ytrain)\n",
    "print(GV.best_params_,GV.best_score_)\n",
    "print(datetime.datetime.utcfromtimestamp(time()-time0).strftime(\"%M:%S:%f\"))"
   ]
  },
  {
   "cell_type": "code",
   "execution_count": 17,
   "metadata": {},
   "outputs": [],
   "source": [
    " def test(x): # 代入优化后的C、Gamma对测试集进行检验\n",
    "        # 读取测试集数据\n",
    "        C,G = x\n",
    "        data = np.array(Xtrain2)\n",
    "        dataTarget = np.array(Ytrain)\n",
    "        data_test = np.array(Xtest2) # 测试集的特征数据（归一化）\n",
    "        dataTarget_test = np.array(Ytest) # 测试集的标签数据\n",
    "        svr = SVR(C=C, kernel='rbf', gamma=G).fit(data, dataTarget) # 创建分类器对象并用训练集的数据拟合分类器模型\n",
    "        dataTarget_predict = svr.predict(data_test) # 采用训练好的分类器对象对测试集数据进行预测\n",
    "        return  np.sum((dataTarget_test - dataTarget_predict )**2)/len(dataTarget_test)"
   ]
  },
  {
   "cell_type": "code",
   "execution_count": 18,
   "metadata": {},
   "outputs": [
    {
     "name": "stdout",
     "output_type": "stream",
     "text": [
      "best_x is  [13.09330272  0.31842192] best_y is 1.9030861242869104\n",
      "06:34:207155\n"
     ]
    }
   ],
   "source": [
    "time0 = time()\n",
    "from sko.PSO import PSO\n",
    "pso = PSO(func=test, dim=2, pop=100, max_iter=3000, lb=[1, 2**(-20)], ub=[50, 1], w=0.5, c1=2, c2=2)\n",
    "fitness = pso.run()\n",
    "print('best_x is ', pso.gbest_x, 'best_y is', pso.gbest_y)\n",
    "print(datetime.datetime.utcfromtimestamp(time()-time0).strftime(\"%M:%S:%f\"))"
   ]
  },
  {
   "cell_type": "code",
   "execution_count": 19,
   "metadata": {},
   "outputs": [
    {
     "data": {
      "image/png": "[encoded data removed]",
      "text/plain": [
       "<Figure size 432x288 with 1 Axes>"
      ]
     },
     "metadata": {
      "needs_background": "light"
     },
     "output_type": "display_data"
    }
   ],
   "source": [
    "import matplotlib.pyplot as plt\n",
    "\n",
    "plt.plot(pso.gbest_y_hist)\n",
    "plt.show()"
   ]
  },
  {
   "cell_type": "code",
   "execution_count": 20,
   "metadata": {},
   "outputs": [],
   "source": [
    "svr = SVR(kernel=\"rbf\"\n",
    "         ,C = 13.09330272 \n",
    "         ,gamma=0.31842192\n",
    "         ).fit(Xtrain2,Ytrain)"
   ]
  },
  {
   "cell_type": "code",
   "execution_count": 21,
   "metadata": {},
   "outputs": [],
   "source": [
    "ypred = svr.predict(Xtest2)"
   ]
  },
  {
   "cell_type": "code",
   "execution_count": 22,
   "metadata": {},
   "outputs": [
    {
     "data": {
      "text/plain": [
       "1.903151415974349"
      ]
     },
     "execution_count": 22,
     "metadata": {},
     "output_type": "execute_result"
    }
   ],
   "source": [
    "from sklearn.metrics import mean_squared_error as MSE, r2_score \n",
    "MSE(Ytest,ypred)"
   ]
  },
  {
   "cell_type": "code",
   "execution_count": 23,
   "metadata": {},
   "outputs": [
    {
     "data": {
      "text/plain": [
       "0.7911728290517834"
      ]
     },
     "execution_count": 23,
     "metadata": {},
     "output_type": "execute_result"
    }
   ],
   "source": [
    "r2_score(Ytest,ypred)"
   ]
  },
  {
   "cell_type": "code",
   "execution_count": 24,
   "metadata": {},
   "outputs": [],
   "source": [
    "#保存模型\n",
    "pickle.dump(svr,open(\"svrpredict.dat\",\"wb\"))"
   ]
  },
  {
   "cell_type": "code",
   "execution_count": 21,
   "metadata": {},
   "outputs": [],
   "source": [
    "def plot_learning_curve(estimator,title, X, y,\n",
    "                        ax=None, #选择子图\n",
    "                        ylim=None, #设置纵坐标的取值范围\n",
    "                        cv=None, #交叉验证\n",
    "                        n_jobs=None #设定索要使用的线程\n",
    "                        ):\n",
    "\n",
    "    from sklearn.model_selection import learning_curve \n",
    "    import matplotlib.pyplot as plt\n",
    "    import numpy as np\n",
    "\n",
    "    train_sizes, train_scores, test_scores = learning_curve(estimator, X, y\n",
    "                                                           ,shuffle=True\n",
    "                                                           ,cv=cv\n",
    "                                                           ,random_state=420\n",
    "                                                           ,n_jobs=n_jobs)\n",
    "    if ax == None:\n",
    "        ax = plt.gca() \n",
    "    else:\n",
    "        ax = plt.figure() \n",
    "    ax.set_title(title) \n",
    "    if ylim is not None:\n",
    "        ax.set_ylim(*ylim) \n",
    "    ax.set_xlabel(\"Training examples\")\n",
    "    ax.set_ylabel(\"Score\") \n",
    "    ax.grid() #绘制网格，不是必须\n",
    "    ax.plot(train_sizes, np.mean(train_scores, axis=1), 'o-', color=\"r\",label=\"Training score\") \n",
    "    ax.plot(train_sizes, np.mean(test_scores, axis=1), 'o-', color=\"g\",label=\"Test score\") \n",
    "    ax.legend(loc=\"best\")\n",
    "    return ax"
   ]
  },
  {
   "cell_type": "code",
   "execution_count": 22,
   "metadata": {},
   "outputs": [],
   "source": [
    "cv = KFold(n_splits=5, shuffle = True, random_state=666) "
   ]
  },
  {
   "cell_type": "code",
   "execution_count": 23,
   "metadata": {},
   "outputs": [
    {
     "data": {
      "image/png": "[encoded data removed]",
      "text/plain": [
       "<Figure size 432x288 with 1 Axes>"
      ]
     },
     "metadata": {},
     "output_type": "display_data"
    }
   ],
   "source": [
    "plot_learning_curve(SVR(kernel=\"rbf\"\n",
    "                       ,gamma = \"auto\"\n",
    "                       ,C = 13.165263157894737)\n",
    "                        ,\"SVR\",Xtrain2,Ytrain,ax=None,cv=cv)\n",
    "plt.show()"
   ]
  },
  {
   "cell_type": "code",
   "execution_count": 24,
   "metadata": {},
   "outputs": [],
   "source": [
    "for i in [Ytest]:\n",
    "    i.index = range(i.shape[0])"
   ]
  },
  {
   "cell_type": "code",
   "execution_count": 25,
   "metadata": {},
   "outputs": [],
   "source": [
    "datanew = pd.concat([pd.DataFrame(Ytest),pd.DataFrame(ypred)],axis=1)"
   ]
  },
  {
   "cell_type": "code",
   "execution_count": 26,
   "metadata": {},
   "outputs": [
    {
     "data": {
      "text/html": [
       "<div>\n",
       "<style scoped>\n",
       "    .dataframe tbody tr th:only-of-type {\n",
       "        vertical-align: middle;\n",
       "    }\n",
       "\n",
       "    .dataframe tbody tr th {\n",
       "        vertical-align: top;\n",
       "    }\n",
       "\n",
       "    .dataframe thead th {\n",
       "        text-align: right;\n",
       "    }\n",
       "</style>\n",
       "<table border=\"1\" class=\"dataframe\">\n",
       "  <thead>\n",
       "    <tr style=\"text-align: right;\">\n",
       "      <th></th>\n",
       "      <th>y</th>\n",
       "      <th>0</th>\n",
       "    </tr>\n",
       "  </thead>\n",
       "  <tbody>\n",
       "    <tr>\n",
       "      <th>0</th>\n",
       "      <td>80.67</td>\n",
       "      <td>81.405299</td>\n",
       "    </tr>\n",
       "    <tr>\n",
       "      <th>1</th>\n",
       "      <td>80.74</td>\n",
       "      <td>80.465965</td>\n",
       "    </tr>\n",
       "    <tr>\n",
       "      <th>2</th>\n",
       "      <td>79.65</td>\n",
       "      <td>79.846991</td>\n",
       "    </tr>\n",
       "    <tr>\n",
       "      <th>3</th>\n",
       "      <td>83.00</td>\n",
       "      <td>82.089326</td>\n",
       "    </tr>\n",
       "    <tr>\n",
       "      <th>4</th>\n",
       "      <td>80.21</td>\n",
       "      <td>79.369374</td>\n",
       "    </tr>\n",
       "  </tbody>\n",
       "</table>\n",
       "</div>"
      ],
      "text/plain": [
       "       y          0\n",
       "0  80.67  81.405299\n",
       "1  80.74  80.465965\n",
       "2  79.65  79.846991\n",
       "3  83.00  82.089326\n",
       "4  80.21  79.369374"
      ]
     },
     "execution_count": 26,
     "metadata": {},
     "output_type": "execute_result"
    }
   ],
   "source": [
    "datanew.head()"
   ]
  },
  {
   "cell_type": "code",
   "execution_count": 27,
   "metadata": {},
   "outputs": [],
   "source": [
    "datanew.columns = [\"Ytest\",\"ypred\"]"
   ]
  },
  {
   "cell_type": "code",
   "execution_count": 28,
   "metadata": {},
   "outputs": [
    {
     "data": {
      "text/html": [
       "<div>\n",
       "<style scoped>\n",
       "    .dataframe tbody tr th:only-of-type {\n",
       "        vertical-align: middle;\n",
       "    }\n",
       "\n",
       "    .dataframe tbody tr th {\n",
       "        vertical-align: top;\n",
       "    }\n",
       "\n",
       "    .dataframe thead th {\n",
       "        text-align: right;\n",
       "    }\n",
       "</style>\n",
       "<table border=\"1\" class=\"dataframe\">\n",
       "  <thead>\n",
       "    <tr style=\"text-align: right;\">\n",
       "      <th></th>\n",
       "      <th>Ytest</th>\n",
       "      <th>ypred</th>\n",
       "    </tr>\n",
       "  </thead>\n",
       "  <tbody>\n",
       "    <tr>\n",
       "      <th>0</th>\n",
       "      <td>80.67</td>\n",
       "      <td>81.405299</td>\n",
       "    </tr>\n",
       "    <tr>\n",
       "      <th>1</th>\n",
       "      <td>80.74</td>\n",
       "      <td>80.465965</td>\n",
       "    </tr>\n",
       "    <tr>\n",
       "      <th>2</th>\n",
       "      <td>79.65</td>\n",
       "      <td>79.846991</td>\n",
       "    </tr>\n",
       "    <tr>\n",
       "      <th>3</th>\n",
       "      <td>83.00</td>\n",
       "      <td>82.089326</td>\n",
       "    </tr>\n",
       "    <tr>\n",
       "      <th>4</th>\n",
       "      <td>80.21</td>\n",
       "      <td>79.369374</td>\n",
       "    </tr>\n",
       "  </tbody>\n",
       "</table>\n",
       "</div>"
      ],
      "text/plain": [
       "   Ytest      ypred\n",
       "0  80.67  81.405299\n",
       "1  80.74  80.465965\n",
       "2  79.65  79.846991\n",
       "3  83.00  82.089326\n",
       "4  80.21  79.369374"
      ]
     },
     "execution_count": 28,
     "metadata": {},
     "output_type": "execute_result"
    }
   ],
   "source": [
    "datanew.head()"
   ]
  },
  {
   "cell_type": "code",
   "execution_count": 29,
   "metadata": {},
   "outputs": [],
   "source": [
    "import matplotlib.pyplot as plot\n",
    "import matplotlib as mpl"
   ]
  },
  {
   "cell_type": "code",
   "execution_count": 30,
   "metadata": {},
   "outputs": [],
   "source": [
    "X3 = datanew.iloc[:,0]"
   ]
  },
  {
   "cell_type": "code",
   "execution_count": 31,
   "metadata": {},
   "outputs": [],
   "source": [
    "y3 = datanew.iloc[:,1]"
   ]
  },
  {
   "cell_type": "code",
   "execution_count": 32,
   "metadata": {},
   "outputs": [],
   "source": [
    "parameter = np.polyfit(X3,y3,1)"
   ]
  },
  {
   "cell_type": "code",
   "execution_count": 33,
   "metadata": {},
   "outputs": [],
   "source": [
    "p = np.poly1d(parameter)"
   ]
  },
  {
   "cell_type": "code",
   "execution_count": 34,
   "metadata": {},
   "outputs": [
    {
     "data": {
      "image/png": "[encoded data removed]",
      "text/plain": [
       "<Figure size 432x288 with 1 Axes>"
      ]
     },
     "metadata": {},
     "output_type": "display_data"
    }
   ],
   "source": [
    "plt.figure()\n",
    "plt.scatter(X3,y3,color=\"blue\",alpha=0.5)\n",
    "plt.plot(X3,p(X3),color=\"red\")\n",
    "plt.xlabel(\"Ytest\")\n",
    "plt.ylabel(\"ypred\")\n",
    "plt.title(\"ML predicts results\")\n",
    "t = \"mse = 1.932\"\n",
    "plt.text(87,77,t,fontsize=15)\n",
    "t1 = \"r2_score = 0.7879\"\n",
    "plt.text(87,73,t1,fontsize=15)\n",
    "plt.show()"
   ]
  },
  {
   "cell_type": "markdown",
   "metadata": {},
   "source": [
    "### 预测"
   ]
  },
  {
   "cell_type": "code",
   "execution_count": 36,
   "metadata": {},
   "outputs": [
    {
     "data": {
      "text/html": [
       "<div>\n",
       "<style scoped>\n",
       "    .dataframe tbody tr th:only-of-type {\n",
       "        vertical-align: middle;\n",
       "    }\n",
       "\n",
       "    .dataframe tbody tr th {\n",
       "        vertical-align: top;\n",
       "    }\n",
       "\n",
       "    .dataframe thead th {\n",
       "        text-align: right;\n",
       "    }\n",
       "</style>\n",
       "<table border=\"1\" class=\"dataframe\">\n",
       "  <thead>\n",
       "    <tr style=\"text-align: right;\">\n",
       "      <th></th>\n",
       "      <th>22#1锅炉B侧出口NOx浓度</th>\n",
       "      <th>24#1锅炉B侧喷氨总量</th>\n",
       "      <th>25#1锅炉烟囱NOx浓度</th>\n",
       "      <th>27#1锅炉B侧氨逃逸</th>\n",
       "      <th>31#1锅炉B侧SCR进口氧量</th>\n",
       "      <th>29#1锅炉B侧脱硝效率</th>\n",
       "    </tr>\n",
       "  </thead>\n",
       "  <tbody>\n",
       "    <tr>\n",
       "      <th>0</th>\n",
       "      <td>32.11</td>\n",
       "      <td>701125.01</td>\n",
       "      <td>45.40</td>\n",
       "      <td>0.37</td>\n",
       "      <td>4.35</td>\n",
       "      <td>79.08</td>\n",
       "    </tr>\n",
       "    <tr>\n",
       "      <th>1</th>\n",
       "      <td>26.70</td>\n",
       "      <td>701134.99</td>\n",
       "      <td>42.05</td>\n",
       "      <td>0.42</td>\n",
       "      <td>4.58</td>\n",
       "      <td>82.82</td>\n",
       "    </tr>\n",
       "    <tr>\n",
       "      <th>2</th>\n",
       "      <td>25.65</td>\n",
       "      <td>701145.91</td>\n",
       "      <td>42.47</td>\n",
       "      <td>0.32</td>\n",
       "      <td>4.85</td>\n",
       "      <td>83.94</td>\n",
       "    </tr>\n",
       "    <tr>\n",
       "      <th>3</th>\n",
       "      <td>28.25</td>\n",
       "      <td>701156.22</td>\n",
       "      <td>43.29</td>\n",
       "      <td>0.04</td>\n",
       "      <td>4.60</td>\n",
       "      <td>82.16</td>\n",
       "    </tr>\n",
       "    <tr>\n",
       "      <th>4</th>\n",
       "      <td>29.32</td>\n",
       "      <td>701166.03</td>\n",
       "      <td>42.08</td>\n",
       "      <td>0.15</td>\n",
       "      <td>4.58</td>\n",
       "      <td>81.60</td>\n",
       "    </tr>\n",
       "  </tbody>\n",
       "</table>\n",
       "</div>"
      ],
      "text/plain": [
       "   22#1锅炉B侧出口NOx浓度  24#1锅炉B侧喷氨总量  25#1锅炉烟囱NOx浓度  27#1锅炉B侧氨逃逸  31#1锅炉B侧SCR进口氧量  \\\n",
       "0            32.11     701125.01          45.40         0.37             4.35   \n",
       "1            26.70     701134.99          42.05         0.42             4.58   \n",
       "2            25.65     701145.91          42.47         0.32             4.85   \n",
       "3            28.25     701156.22          43.29         0.04             4.60   \n",
       "4            29.32     701166.03          42.08         0.15             4.58   \n",
       "\n",
       "   29#1锅炉B侧脱硝效率  \n",
       "0         79.08  \n",
       "1         82.82  \n",
       "2         83.94  \n",
       "3         82.16  \n",
       "4         81.60  "
      ]
     },
     "execution_count": 36,
     "metadata": {},
     "output_type": "execute_result"
    }
   ],
   "source": [
    "data1 = pd.read_csv(r\"E:\\Users\\HUAWEI\\Desktop\\B.csv\",encoding='gb2312')\n",
    "data1.head()"
   ]
  },
  {
   "cell_type": "code",
   "execution_count": 39,
   "metadata": {},
   "outputs": [
    {
     "name": "stdout",
     "output_type": "stream",
     "text": [
      "<class 'pandas.core.frame.DataFrame'>\n",
      "RangeIndex: 2976 entries, 0 to 2975\n",
      "Data columns (total 6 columns):\n",
      "22#1锅炉B侧出口NOx浓度    2975 non-null float64\n",
      "24#1锅炉B侧喷氨总量       2973 non-null float64\n",
      "25#1锅炉烟囱NOx浓度      2975 non-null float64\n",
      "27#1锅炉B侧氨逃逸        2974 non-null float64\n",
      "31#1锅炉B侧SCR进口氧量    2973 non-null float64\n",
      "29#1锅炉B侧脱硝效率       2974 non-null float64\n",
      "dtypes: float64(6)\n",
      "memory usage: 139.6 KB\n"
     ]
    }
   ],
   "source": [
    "data1.info()"
   ]
  },
  {
   "cell_type": "code",
   "execution_count": 49,
   "metadata": {},
   "outputs": [],
   "source": [
    "data1.columns = [\"x1\",\"x2\",\"x3\",\"x4\",\"x5\",\"y\"]"
   ]
  },
  {
   "cell_type": "code",
   "execution_count": 50,
   "metadata": {},
   "outputs": [],
   "source": [
    "data1.dropna(axis=0,inplace=True)  #axis=0对行进行修改，axis=0对列进行修改，inplace=True为对原来的数据进行修改"
   ]
  },
  {
   "cell_type": "code",
   "execution_count": 57,
   "metadata": {},
   "outputs": [],
   "source": [
    "X1 = data1.iloc[:,0:-1]\n",
    "y1 = data1.iloc[:,-1]"
   ]
  },
  {
   "cell_type": "code",
   "execution_count": 58,
   "metadata": {},
   "outputs": [
    {
     "data": {
      "text/plain": [
       "(2964, 5)"
      ]
     },
     "execution_count": 58,
     "metadata": {},
     "output_type": "execute_result"
    }
   ],
   "source": [
    "X1.shape"
   ]
  },
  {
   "cell_type": "code",
   "execution_count": 59,
   "metadata": {},
   "outputs": [
    {
     "data": {
      "text/plain": [
       "(2964,)"
      ]
     },
     "execution_count": 59,
     "metadata": {},
     "output_type": "execute_result"
    }
   ],
   "source": [
    "y1.shape"
   ]
  },
  {
   "cell_type": "code",
   "execution_count": 60,
   "metadata": {},
   "outputs": [],
   "source": [
    "from sklearn.model_selection import train_test_split"
   ]
  },
  {
   "cell_type": "code",
   "execution_count": 61,
   "metadata": {},
   "outputs": [],
   "source": [
    "Xtrain1,Xtest1,Ytrain1,Ytest1 = train_test_split(X1,y1,test_size=0.3,random_state=666)"
   ]
  },
  {
   "cell_type": "code",
   "execution_count": 62,
   "metadata": {},
   "outputs": [],
   "source": [
    "from sklearn.preprocessing import StandardScaler\n",
    "standardScaler = StandardScaler()\n",
    "Xtrain3 = standardScaler.fit_transform(Xtrain1)\n",
    "Xtest3 = standardScaler.fit_transform(Xtest1)"
   ]
  },
  {
   "cell_type": "code",
   "execution_count": 64,
   "metadata": {},
   "outputs": [
    {
     "name": "stdout",
     "output_type": "stream",
     "text": [
      "linear's testing accuracy 0.815523\n",
      "00:00:258786\n",
      "poly's testing accuracy 0.736260\n",
      "00:01:092189\n",
      "rbf's testing accuracy 0.846168\n",
      "00:01:547974\n",
      "sigmoid's testing accuracy -68.576615\n",
      "00:02:125215\n"
     ]
    }
   ],
   "source": [
    "times = time()\n",
    "for kernel in [\"linear\",\"poly\",\"rbf\",\"sigmoid\"]:\n",
    "    clf = SVR(kernel=kernel).fit(Xtrain3,Ytrain1)\n",
    "    result = clf.predict(Xtest3)\n",
    "    score = clf.score(Xtest3,Ytest1)\n",
    "    print(\"%s's testing accuracy %f\"%(kernel,score))\n",
    "    print(datetime.datetime.utcfromtimestamp(time()-times).strftime(\"%M:%S:%f\"))"
   ]
  },
  {
   "cell_type": "code",
   "execution_count": 66,
   "metadata": {},
   "outputs": [
    {
     "name": "stdout",
     "output_type": "stream",
     "text": [
      "under C 0.010000,testing accuracy is 0.470939\n",
      "under C 5.272632,testing accuracy is 0.875474\n",
      "under C 10.535263,testing accuracy is 0.878838\n",
      "under C 15.797895,testing accuracy is 0.880647\n",
      "under C 21.060526,testing accuracy is 0.881420\n",
      "under C 26.323158,testing accuracy is 0.881901\n",
      "under C 31.585789,testing accuracy is 0.882667\n",
      "under C 36.848421,testing accuracy is 0.882681\n",
      "under C 42.111053,testing accuracy is 0.882783\n",
      "under C 47.373684,testing accuracy is 0.883089\n",
      "under C 52.636316,testing accuracy is 0.883104\n",
      "under C 57.898947,testing accuracy is 0.882558\n",
      "under C 63.161579,testing accuracy is 0.881930\n",
      "under C 68.424211,testing accuracy is 0.881435\n",
      "under C 73.686842,testing accuracy is 0.880916\n",
      "under C 78.949474,testing accuracy is 0.880349\n",
      "under C 84.212105,testing accuracy is 0.879815\n",
      "under C 89.474737,testing accuracy is 0.879423\n",
      "under C 94.737368,testing accuracy is 0.878760\n",
      "under C 100.000000,testing accuracy is 0.878020\n",
      "0.8831035201027105 52.63631578947368\n"
     ]
    },
    {
     "data": {
      "image/png": "[encoded data removed]",
      "text/plain": [
       "<Figure size 432x288 with 1 Axes>"
      ]
     },
     "metadata": {},
     "output_type": "display_data"
    },
    {
     "name": "stdout",
     "output_type": "stream",
     "text": [
      "00:25:788918\n"
     ]
    }
   ],
   "source": [
    "import matplotlib.pyplot as plt\n",
    "times = time()\n",
    "C_range = np.linspace(0.01,100,20)\n",
    "scoreall = []\n",
    "for C in C_range:\n",
    "    clf = SVR(kernel=\"rbf\",C=C).fit(Xtrain3,Ytrain1)\n",
    "    result = clf.predict(Xtest3)\n",
    "    score = clf.score(Xtest3,Ytest1)\n",
    "    scoreall.append(score)\n",
    "    print(\"under C %f,testing accuracy is %f\"%(C,score))\n",
    "print(max(scoreall),C_range[scoreall.index(max(scoreall))])\n",
    "plt.figure()\n",
    "plt.plot(C_range,scoreall,c=\"orange\",label=\"accuracy\")\n",
    "plt.legend()\n",
    "plt.show()\n",
    "print(datetime.datetime.utcfromtimestamp(time()-times).strftime(\"%M:%S:%f\"))"
   ]
  },
  {
   "cell_type": "code",
   "execution_count": 68,
   "metadata": {},
   "outputs": [
    {
     "name": "stdout",
     "output_type": "stream",
     "text": [
      "{'gamma': 2} 0.5024238233448891\n",
      "01:24:491540\n"
     ]
    }
   ],
   "source": [
    "time0 = time()\n",
    "params = {'gamma':np.arange(1,10,1)}\n",
    "cv = KFold(n_splits=5, shuffle = True, random_state=666) \n",
    "clf = SVR(kernel=\"rbf\",C=52.63631578947368)\n",
    "GV = GridSearchCV(clf,params,cv=cv)\n",
    "GV.fit(Xtrain3,Ytrain1)\n",
    "print(GV.best_params_,GV.best_score_)\n",
    "print(datetime.datetime.utcfromtimestamp(time()-time0).strftime(\"%M:%S:%f\"))"
   ]
  },
  {
   "cell_type": "code",
   "execution_count": 69,
   "metadata": {},
   "outputs": [],
   "source": [
    "svr = SVR(kernel=\"rbf\"\n",
    "         ,C = 52.63631578947368\n",
    "         ,gamma=\"auto\"\n",
    "         ).fit(Xtrain3,Ytrain1)"
   ]
  },
  {
   "cell_type": "code",
   "execution_count": 70,
   "metadata": {},
   "outputs": [],
   "source": [
    "ypred = svr.predict(Xtest3)"
   ]
  },
  {
   "cell_type": "code",
   "execution_count": 71,
   "metadata": {},
   "outputs": [
    {
     "data": {
      "text/plain": [
       "1.5494955682306744"
      ]
     },
     "execution_count": 71,
     "metadata": {},
     "output_type": "execute_result"
    }
   ],
   "source": [
    "from sklearn.metrics import mean_squared_error as MSE, r2_score \n",
    "MSE(Ytest1,ypred)"
   ]
  },
  {
   "cell_type": "code",
   "execution_count": 72,
   "metadata": {},
   "outputs": [
    {
     "data": {
      "text/plain": [
       "0.8831035201027106"
      ]
     },
     "execution_count": 72,
     "metadata": {},
     "output_type": "execute_result"
    }
   ],
   "source": [
    "r2_score(Ytest1,ypred)"
   ]
  },
  {
   "cell_type": "code",
   "execution_count": 73,
   "metadata": {},
   "outputs": [],
   "source": [
    "def plot_learning_curve(estimator,title, X, y,\n",
    "                        ax=None, #选择子图\n",
    "                        ylim=None, #设置纵坐标的取值范围\n",
    "                        cv=None, #交叉验证\n",
    "                        n_jobs=None #设定索要使用的线程\n",
    "                        ):\n",
    "\n",
    "    from sklearn.model_selection import learning_curve \n",
    "    import matplotlib.pyplot as plt\n",
    "    import numpy as np\n",
    "\n",
    "    train_sizes, train_scores, test_scores = learning_curve(estimator, X, y\n",
    "                                                           ,shuffle=True\n",
    "                                                           ,cv=cv\n",
    "                                                           ,random_state=420\n",
    "                                                           ,n_jobs=n_jobs)\n",
    "    if ax == None:\n",
    "        ax = plt.gca() \n",
    "    else:\n",
    "        ax = plt.figure() \n",
    "    ax.set_title(title) \n",
    "    if ylim is not None:\n",
    "        ax.set_ylim(*ylim) \n",
    "    ax.set_xlabel(\"Training examples\")\n",
    "    ax.set_ylabel(\"Score\") \n",
    "    ax.grid() #绘制网格，不是必须\n",
    "    ax.plot(train_sizes, np.mean(train_scores, axis=1), 'o-', color=\"r\",label=\"Training score\") \n",
    "    ax.plot(train_sizes, np.mean(test_scores, axis=1), 'o-', color=\"g\",label=\"Test score\") \n",
    "    ax.legend(loc=\"best\")\n",
    "    return ax"
   ]
  },
  {
   "cell_type": "code",
   "execution_count": 74,
   "metadata": {},
   "outputs": [],
   "source": [
    "cv = KFold(n_splits=5, shuffle = True, random_state=666) "
   ]
  },
  {
   "cell_type": "code",
   "execution_count": 75,
   "metadata": {},
   "outputs": [
    {
     "data": {
      "image/png": "[encoded data removed]",
      "text/plain": [
       "<Figure size 432x288 with 1 Axes>"
      ]
     },
     "metadata": {},
     "output_type": "display_data"
    }
   ],
   "source": [
    "plot_learning_curve(SVR(kernel=\"rbf\"\n",
    "                       ,gamma = \"auto\"\n",
    "                       ,C = 52.63631578947368)\n",
    "                        ,\"SVR\",Xtrain3,Ytrain1,ax=None,cv=cv)\n",
    "plt.show()"
   ]
  },
  {
   "cell_type": "code",
   "execution_count": 76,
   "metadata": {},
   "outputs": [],
   "source": [
    "for i in [Ytest]:\n",
    "    i.index = range(i.shape[0])"
   ]
  },
  {
   "cell_type": "code",
   "execution_count": 77,
   "metadata": {},
   "outputs": [],
   "source": [
    "datanew1 = pd.concat([pd.DataFrame(Ytest1),pd.DataFrame(ypred)],axis=1)"
   ]
  },
  {
   "cell_type": "code",
   "execution_count": 78,
   "metadata": {},
   "outputs": [],
   "source": [
    "datanew1.columns = [\"Ytest1\",\"ypred\"]"
   ]
  },
  {
   "cell_type": "code",
   "execution_count": 81,
   "metadata": {},
   "outputs": [],
   "source": [
    "import matplotlib.pyplot as plot\n",
    "import matplotlib as mpl\n",
    "X3 = datanew1.iloc[:,0]\n",
    "y3 = datanew1.iloc[:,1]"
   ]
  },
  {
   "cell_type": "code",
   "execution_count": 83,
   "metadata": {},
   "outputs": [],
   "source": [
    "parameter = np.polyfit(X3,y3,1)"
   ]
  },
  {
   "cell_type": "code",
   "execution_count": 84,
   "metadata": {},
   "outputs": [
    {
     "data": {
      "image/png": "[encoded data removed]",
      "text/plain": [
       "<Figure size 432x288 with 1 Axes>"
      ]
     },
     "metadata": {},
     "output_type": "display_data"
    }
   ],
   "source": [
    "p = np.poly1d(parameter)\n",
    "plt.figure()\n",
    "plt.scatter(X3,y3,color=\"blue\",alpha=0.5)\n",
    "plt.plot(X3,p(X3),color=\"red\")\n",
    "plt.xlabel(\"Ytest1\")\n",
    "plt.ylabel(\"ypred\")\n",
    "plt.title(\"ML predicts results\")\n",
    "t = \"mse = 1.549\"\n",
    "plt.text(87,77,t,fontsize=15)\n",
    "t1 = \"r2_score = 0.883\"\n",
    "plt.text(87,73,t1,fontsize=15)\n",
    "plt.show()"
   ]
  }
 ],
 "metadata": {
  "kernelspec": {
   "display_name": "Python 3",
   "language": "python",
   "name": "python3"
  },
  "language_info": {
   "codemirror_mode": {
    "name": "ipython",
    "version": 3
   },
   "file_extension": ".py",
   "mimetype": "text/x-python",
   "name": "python",
   "nbconvert_exporter": "python",
   "pygments_lexer": "ipython3",
   "version": "3.6.4"
  }
 },
 "nbformat": 4,
 "nbformat_minor": 2
}
